{
  "cells": [
    {
      "cell_type": "markdown",
      "metadata": {
        "id": "3t3b4k9EdIGs"
      },
      "source": [
        "<h1><center>\n",
        "    ECE 438 - Laboratory 6b<br/>\n",
        "    Discrete Fourier Transform and Fast Fourier Transform Algorithms (Week 2)<br/>\n",
        "    <small>Last updated on February 27, 2022</small><br/>\n",
        "    <br/>\n",
        "    Date: 9/22<br/> \n",
        "    Section:Thursday 2:30 Lab<br/>\n",
        "</center></h1>"
      ]
    },
    {
      "cell_type": "markdown",
      "metadata": {
        "id": "IbunTN34dIGz"
      },
      "source": [
        "|Name |Signature |Time spent outside lab|\n",
        "|:---:|:---:|:---:|\n",
        "|Student Name #1 [---%]|Davis Ashbrook| 1 hour|\n",
        "|Student Name #2 [---%]| | |"
      ]
    },
    {
      "cell_type": "markdown",
      "metadata": {
        "id": "ROIn61ardIG1"
      },
      "source": [
        "||Below expectations| Lacks in some respect|Meets all expectations|\n",
        "|:---:|:---:|:---:|:---:|\n",
        "|**Completeness of the report**||||\n",
        "|**Organization of the report**||||\n",
        "|**Quality of figures**: *Correctly labeled with title, x-axis, y-axis, and name(s)*||||\n",
        "|**Understanding of the frequency range of DFT and effects of zero-padding (50 pts)**: *DFT and DTFT plots, Python code (DTFTsamples), questions*||||\n",
        "|**Implementation of Divide-and-Conquer DFT and FFT (50 pts)**: *Python codes (dcDFT, fft2, fft4, fft8, fft_stages), questions*||||"
      ]
    },
    {
      "cell_type": "code",
      "execution_count": 87,
      "metadata": {
        "id": "7hmayDU7dIG2"
      },
      "outputs": [],
      "source": [
        "import numpy as np\n",
        "import matplotlib.pyplot as plt\n",
        "from helper import DTFT, DFTsum, hamming"
      ]
    },
    {
      "cell_type": "code",
      "execution_count": 88,
      "metadata": {
        "id": "IhVgFD6KdIG4",
        "colab": {
          "base_uri": "https://localhost:8080/"
        },
        "outputId": "fb07ab77-6ef8-45d1-c9d7-95b55e9203b7"
      },
      "outputs": [
        {
          "output_type": "stream",
          "name": "stdout",
          "text": [
            "The autoreload extension is already loaded. To reload it, use:\n",
            "  %reload_ext autoreload\n"
          ]
        }
      ],
      "source": [
        "# make sure the plot is displayed in this notebook\n",
        "%matplotlib inline\n",
        "# specify the size of the plot\n",
        "plt.rcParams['figure.figsize'] = (16, 6)\n",
        "\n",
        "# for auto-reloading extenrnal modules\n",
        "%load_ext autoreload\n",
        "%autoreload 2"
      ]
    },
    {
      "cell_type": "markdown",
      "metadata": {
        "id": "ik2k9VcGdIG5"
      },
      "source": [
        "<h3 style=\"color:red;\"><left>Exercise 2.1: Shifting the Frequency Range</left></h3>"
      ]
    },
    {
      "cell_type": "markdown",
      "metadata": {
        "id": "2Sn8LGsCdIG6"
      },
      "source": [
        "**1. Create a Hamming window ```x``` of length ```N = 20```, using the provided function `hamming()`, then compute the 20 point DFT of `x` using the provided function `DFTsum()`, and finally, plot the magnitude of the DFT, $|X_{20}(k)|$, versus the index $k$.**"
      ]
    },
    {
      "cell_type": "code",
      "execution_count": 89,
      "metadata": {
        "colab": {
          "base_uri": "https://localhost:8080/",
          "height": 366
        },
        "id": "hrFsTHn5dIG6",
        "outputId": "c5f61a32-b5e7-497c-b1e0-db485a7575bc"
      },
      "outputs": [
        {
          "output_type": "stream",
          "name": "stderr",
          "text": [
            "/usr/local/lib/python3.7/dist-packages/ipykernel_launcher.py:5: UserWarning: In Matplotlib 3.3 individual lines on a stem plot will be added as a LineCollection instead of individual lines. This significantly improves the performance of a stem plot. To remove this warning and switch to the new behaviour, set the \"use_line_collection\" keyword argument to True.\n",
            "  \"\"\"\n"
          ]
        },
        {
          "output_type": "execute_result",
          "data": {
            "text/plain": [
              "<StemContainer object of 3 artists>"
            ]
          },
          "metadata": {},
          "execution_count": 89
        },
        {
          "output_type": "display_data",
          "data": {
            "text/plain": [
              "<Figure size 1152x432 with 1 Axes>"
            ],
            "image/png": "[encoded data removed]"
          },
          "metadata": {
            "needs_background": "light"
          }
        }
      ],
      "source": [
        "# insert your code here\n",
        "x = hamming(20)\n",
        "k = range(20)\n",
        "xdft = DFTsum(x)\n",
        "plt.stem(k, np.abs(xdft))"
      ]
    },
    {
      "cell_type": "markdown",
      "metadata": {
        "id": "G2w6580ndIG8"
      },
      "source": [
        "**2. Complete the function `DTFTsamples` below to compute the samples of the DTFT and their corresponding frequencies.**\n",
        "\n",
        "**Note:** Your function ```DTFTsamples(x)``` should call your function `DFTsum()` and use the function ```np.fft.fftshift()```."
      ]
    },
    {
      "cell_type": "code",
      "execution_count": 90,
      "metadata": {
        "id": "wvxyWhgfdIG9"
      },
      "outputs": [],
      "source": [
        "def DTFTsamples(x):\n",
        "    \"\"\"\n",
        "    Compute samples of the DTFT and their corresponding frequencies in the range -np.pi to np.pi\n",
        "    \n",
        "    Parameters:\n",
        "    ---\n",
        "    x: an N-point vector\n",
        "    \n",
        "    Returns:\n",
        "    ---\n",
        "    X: the length N vector of DTFT samples\n",
        "    w: he length N vector of corresponding radial frequencies\n",
        "    \"\"\"\n",
        "    X = DFTsum(x)\n",
        "    N = len(x)\n",
        "    k = np.arange(0, N, 1)\n",
        "    w = 2 * np.pi * k / N\n",
        "    w[w >= np.pi] = w[w >= np.pi] - 2 * np.pi\n",
        "    X = np.fft.fftshift(X)\n",
        "    w = np.fft.fftshift(w)\n",
        "    \n",
        "    return X, w"
      ]
    },
    {
      "cell_type": "markdown",
      "metadata": {
        "id": "7x1fyy3odIG-"
      },
      "source": [
        "**3. Use your function ```DTFTsamples``` to compute DTFT samples of the Hamming window of length $N = 20$. Plot the magnitude of these DTFT samples versus frequency in rad/sample.**"
      ]
    },
    {
      "cell_type": "code",
      "execution_count": 91,
      "metadata": {
        "colab": {
          "base_uri": "https://localhost:8080/",
          "height": 366
        },
        "id": "IXg3J4UFdIG_",
        "outputId": "6bc5c436-31a8-42fb-d1c7-c77f52655bc0"
      },
      "outputs": [
        {
          "output_type": "stream",
          "name": "stderr",
          "text": [
            "/usr/local/lib/python3.7/dist-packages/ipykernel_launcher.py:3: UserWarning: In Matplotlib 3.3 individual lines on a stem plot will be added as a LineCollection instead of individual lines. This significantly improves the performance of a stem plot. To remove this warning and switch to the new behaviour, set the \"use_line_collection\" keyword argument to True.\n",
            "  This is separate from the ipykernel package so we can avoid doing imports until\n"
          ]
        },
        {
          "output_type": "execute_result",
          "data": {
            "text/plain": [
              "<StemContainer object of 3 artists>"
            ]
          },
          "metadata": {},
          "execution_count": 91
        },
        {
          "output_type": "display_data",
          "data": {
            "text/plain": [
              "<Figure size 1152x432 with 1 Axes>"
            ],
            "image/png": "[encoded data removed]"
          },
          "metadata": {
            "needs_background": "light"
          }
        }
      ],
      "source": [
        "# insert your code here\n",
        "X, w = DTFTsamples(x)\n",
        "plt.stem(w, np.abs(X))\n"
      ]
    },
    {
      "cell_type": "markdown",
      "metadata": {
        "id": "U6GD7jC5dIHA"
      },
      "source": [
        "<h3 style=\"color:red;\"><left>Exercise 2.2: Zero Padding</left></h3>"
      ]
    },
    {
      "cell_type": "markdown",
      "metadata": {
        "id": "-MeksR2ydIHA"
      },
      "source": [
        "**1. For $N=50$, compute the vector $x$ containing the values $x[0],\\dots, x[N − 1]$, then compute the samples of $X[k]$ using your function ```DTFTsamples()```, and finally plot the magnitude of the DTFT samples versus frequency in rad/sample.**"
      ]
    },
    {
      "cell_type": "code",
      "execution_count": 92,
      "metadata": {
        "colab": {
          "base_uri": "https://localhost:8080/",
          "height": 307
        },
        "id": "ql2bL3sjdIHB",
        "outputId": "915293da-fd34-4635-e0a9-200d61a84a99"
      },
      "outputs": [
        {
          "output_type": "execute_result",
          "data": {
            "text/plain": [
              "[<matplotlib.lines.Line2D at 0x7f20bb4f1250>]"
            ]
          },
          "metadata": {},
          "execution_count": 92
        },
        {
          "output_type": "display_data",
          "data": {
            "text/plain": [
              "<Figure size 1152x432 with 1 Axes>"
            ],
            "image/png": "[encoded data removed]"
          },
          "metadata": {
            "needs_background": "light"
          }
        }
      ],
      "source": [
        "# insert your code here\n",
        "N = 50\n",
        "k = np.arange(0, N, 1)\n",
        "x = np.sin(0.1 * np.pi * k)\n",
        "X, w = DTFTsamples(x)\n",
        "\n",
        "plt.plot(w, np.abs(X))\n",
        "\n"
      ]
    },
    {
      "cell_type": "markdown",
      "metadata": {
        "id": "ZTRGUJlpdIHB"
      },
      "source": [
        "**2. For $N=100$, compute the vector $x$ containing the values $x[0],\\dots, x[N − 1]$, then compute the samples of $X[k]$ using your function ```DTFTsamples()```, and finally plot the magnitude of the DTFT samples versus frequency in rad/sample.**"
      ]
    },
    {
      "cell_type": "code",
      "execution_count": 93,
      "metadata": {
        "colab": {
          "base_uri": "https://localhost:8080/",
          "height": 310
        },
        "id": "O2Jv-q_YdIHC",
        "outputId": "b56fe2f0-9c6b-42ca-9371-08f6d9d7c6a1"
      },
      "outputs": [
        {
          "output_type": "execute_result",
          "data": {
            "text/plain": [
              "[<matplotlib.lines.Line2D at 0x7f20bb461d90>]"
            ]
          },
          "metadata": {},
          "execution_count": 93
        },
        {
          "output_type": "display_data",
          "data": {
            "text/plain": [
              "<Figure size 1152x432 with 1 Axes>"
            ],
            "image/png": "[encoded data removed]"
          },
          "metadata": {
            "needs_background": "light"
          }
        }
      ],
      "source": [
        "# insert your code here\n",
        "N = 100\n",
        "k = np.arange(0, N, 1)\n",
        "x = np.sin(0.1 * np.pi * k[0:50])\n",
        "x = np.append(x, np.zeros(int(N/2)))\n",
        "X, w = DTFTsamples(x)\n",
        "\n",
        "plt.plot(w, np.abs(X))\n"
      ]
    },
    {
      "cell_type": "markdown",
      "metadata": {
        "id": "917XaVuAdIHD"
      },
      "source": [
        "**3. Which plot looks more like the true DTFT?**"
      ]
    },
    {
      "cell_type": "markdown",
      "metadata": {
        "id": "hzHd7WyVdIHE"
      },
      "source": [
        "plot 2 using N = 100 looks more like the true DTFT"
      ]
    },
    {
      "cell_type": "markdown",
      "metadata": {
        "id": "7N6OCVgQdIHE"
      },
      "source": [
        "**3. Explain why the plots look so different.**"
      ]
    },
    {
      "cell_type": "markdown",
      "source": [
        "The second plot has more data points crammed into the -pi to pi space allowing us to see more of the values of the DTFT on our DFT plot, and plot 2 approximates the height of peaks better because it is able to use more data points in calculating its sums."
      ],
      "metadata": {
        "id": "kjAs486srYjE"
      }
    },
    {
      "cell_type": "markdown",
      "metadata": {
        "id": "FkSsyOtBdIHF"
      },
      "source": [
        "<h3 style=\"color:red;\"><left>Exercise 3.1: Implementation of Divide-and-Conquer DFT</left></h3>"
      ]
    },
    {
      "cell_type": "markdown",
      "metadata": {
        "id": "X0gcX4wqdIHF"
      },
      "source": [
        "**1. Complete the function `dcDFT` below.**"
      ]
    },
    {
      "cell_type": "code",
      "execution_count": 94,
      "metadata": {
        "id": "LADPbo5CdIHF"
      },
      "outputs": [],
      "source": [
        "def dcDFT(x):\n",
        "    \"\"\"\n",
        "    Parameters:\n",
        "    ---\n",
        "    x: a vector of even length N\n",
        "    \n",
        "    Returns: the DFT of x\n",
        "    \"\"\"\n",
        "    \n",
        "    # Step 1\n",
        "    # Separate the samples of x into even and odd points.\n",
        "    # Hint: The Python function x0 = x[0:N:2] can be used to obtain the “even” points.\n",
        "    N = len(x)\n",
        "    k = np.arange(0, int(N/2), 1)\n",
        "\n",
        "    x0 = x[0:N:2]\n",
        "    x1 = x[1:N:2]\n",
        "    \n",
        "    # Step 2\n",
        "    # Use your function DFTsum to compute the two N/2 point DFT’s.\n",
        "    X0 = DFTsum(x0)\n",
        "    X1 = DFTsum(x1)\n",
        "\n",
        "    # Step 3\n",
        "    # Multiply by the twiddle factors$\n",
        "    \n",
        "    W = np.exp(-2j * np.pi * k / N)\n",
        "    WX1 = W * X1\n",
        "\n",
        "    # Step 4\n",
        "    # Combine the two DFT’s to form X\n",
        "    X = np.zeros(N)\n",
        "    X[0: int(N/2)] = X0 + WX1\n",
        "    X[int(N/2): N] = X0 - WX1\n",
        "\n",
        "    \n",
        "    return X"
      ]
    },
    {
      "cell_type": "markdown",
      "metadata": {
        "id": "hiVUcLowdIHG"
      },
      "source": [
        "**2. Test your function ```dcDFT``` by using it to compute and plot the DFT’s of the following signals:**\n",
        "\n",
        "* $x[n]=\\delta[n]$ for $N=10$\n",
        "* $x[n]=1$ for $N=10$\n",
        "* $x[n]=e^{j2\\pi n/10}$ for $N=10$\n",
        "\n",
        "**Make sure you plot the results in separate cells.**"
      ]
    },
    {
      "cell_type": "code",
      "execution_count": 95,
      "metadata": {
        "colab": {
          "base_uri": "https://localhost:8080/",
          "height": 400
        },
        "id": "VHy6BfikdIHH",
        "outputId": "459c5976-2b8e-4b0c-a94e-f078c26905dc"
      },
      "outputs": [
        {
          "output_type": "stream",
          "name": "stderr",
          "text": [
            "/usr/local/lib/python3.7/dist-packages/ipykernel_launcher.py:33: ComplexWarning: Casting complex values to real discards the imaginary part\n",
            "/usr/local/lib/python3.7/dist-packages/ipykernel_launcher.py:34: ComplexWarning: Casting complex values to real discards the imaginary part\n",
            "/usr/local/lib/python3.7/dist-packages/ipykernel_launcher.py:7: UserWarning: In Matplotlib 3.3 individual lines on a stem plot will be added as a LineCollection instead of individual lines. This significantly improves the performance of a stem plot. To remove this warning and switch to the new behaviour, set the \"use_line_collection\" keyword argument to True.\n",
            "  import sys\n"
          ]
        },
        {
          "output_type": "execute_result",
          "data": {
            "text/plain": [
              "<StemContainer object of 3 artists>"
            ]
          },
          "metadata": {},
          "execution_count": 95
        },
        {
          "output_type": "display_data",
          "data": {
            "text/plain": [
              "<Figure size 1152x432 with 1 Axes>"
            ],
            "image/png": "[encoded data removed]"
          },
          "metadata": {
            "needs_background": "light"
          }
        }
      ],
      "source": [
        "# first signal\n",
        "N = 10\n",
        "n = np.arange(0, N, 1)\n",
        "\n",
        "x1 = (n == 0).astype(float)\n",
        "X1 = dcDFT(x1)\n",
        "plt.stem(n, np.abs(X1))\n"
      ]
    },
    {
      "cell_type": "code",
      "execution_count": 96,
      "metadata": {
        "colab": {
          "base_uri": "https://localhost:8080/",
          "height": 401
        },
        "id": "v4s92j7tdIHH",
        "outputId": "956a3981-4bd3-4f3f-a039-045b400e6b77"
      },
      "outputs": [
        {
          "output_type": "stream",
          "name": "stderr",
          "text": [
            "/usr/local/lib/python3.7/dist-packages/ipykernel_launcher.py:33: ComplexWarning: Casting complex values to real discards the imaginary part\n",
            "/usr/local/lib/python3.7/dist-packages/ipykernel_launcher.py:34: ComplexWarning: Casting complex values to real discards the imaginary part\n",
            "/usr/local/lib/python3.7/dist-packages/ipykernel_launcher.py:5: UserWarning: In Matplotlib 3.3 individual lines on a stem plot will be added as a LineCollection instead of individual lines. This significantly improves the performance of a stem plot. To remove this warning and switch to the new behaviour, set the \"use_line_collection\" keyword argument to True.\n",
            "  \"\"\"\n"
          ]
        },
        {
          "output_type": "execute_result",
          "data": {
            "text/plain": [
              "<StemContainer object of 3 artists>"
            ]
          },
          "metadata": {},
          "execution_count": 96
        },
        {
          "output_type": "display_data",
          "data": {
            "text/plain": [
              "<Figure size 1152x432 with 1 Axes>"
            ],
            "image/png": "[encoded data removed]"
          },
          "metadata": {
            "needs_background": "light"
          }
        }
      ],
      "source": [
        "# second signal\n",
        "\n",
        "x2 = np.ones(N)\n",
        "X2 = dcDFT(x2)\n",
        "plt.stem(n, np.abs(X2))"
      ]
    },
    {
      "cell_type": "code",
      "execution_count": 97,
      "metadata": {
        "colab": {
          "base_uri": "https://localhost:8080/",
          "height": 401
        },
        "id": "n9OTWrFhdIHH",
        "outputId": "eb5097c7-c291-49f9-b77d-55997ea73ec6"
      },
      "outputs": [
        {
          "output_type": "stream",
          "name": "stderr",
          "text": [
            "/usr/local/lib/python3.7/dist-packages/ipykernel_launcher.py:33: ComplexWarning: Casting complex values to real discards the imaginary part\n",
            "/usr/local/lib/python3.7/dist-packages/ipykernel_launcher.py:34: ComplexWarning: Casting complex values to real discards the imaginary part\n",
            "/usr/local/lib/python3.7/dist-packages/ipykernel_launcher.py:5: UserWarning: In Matplotlib 3.3 individual lines on a stem plot will be added as a LineCollection instead of individual lines. This significantly improves the performance of a stem plot. To remove this warning and switch to the new behaviour, set the \"use_line_collection\" keyword argument to True.\n",
            "  \"\"\"\n"
          ]
        },
        {
          "output_type": "execute_result",
          "data": {
            "text/plain": [
              "<StemContainer object of 3 artists>"
            ]
          },
          "metadata": {},
          "execution_count": 97
        },
        {
          "output_type": "display_data",
          "data": {
            "text/plain": [
              "<Figure size 1152x432 with 1 Axes>"
            ],
            "image/png": "[encoded data removed]"
          },
          "metadata": {
            "needs_background": "light"
          }
        }
      ],
      "source": [
        "# third signal\n",
        "\n",
        "x3 = np.exp(2j * np.pi * n / N)\n",
        "X3 = dcDFT(x3)\n",
        "plt.stem(n, np.abs(X3))\n"
      ]
    },
    {
      "cell_type": "markdown",
      "metadata": {
        "id": "c0LlcwrPdIHI"
      },
      "source": [
        "**3. Determine the number of multiplies that are required in this approach to computing an $N$ point DFT. (Consider a multiply to be one multiplication of real or complex numbers.)**\n",
        "\n",
        "**Hint:** Refer to the diagram of Figure 1, and remember to consider the $N/2$ point DFTs."
      ]
    },
    {
      "cell_type": "markdown",
      "metadata": {
        "id": "-867zpHJdIHI"
      },
      "source": [
        "for each N/2 point DFTs there are (N/2)^2 multiplies, then we have to do a multiplication of each twiddle factor, and there are N/2 twiddle factors. So the total amount of multiplications is (N/2)^2 + (N/2)^2 + N/2 = (N^2 + N) / 2"
      ]
    },
    {
      "cell_type": "markdown",
      "metadata": {
        "id": "buUPe--8dIHI"
      },
      "source": [
        "<h3 style=\"color:red;\"><left>Exercise 3.2: Recursive Divide and Conquer (Part 1)</left></h3>"
      ]
    },
    {
      "cell_type": "markdown",
      "metadata": {
        "id": "45630EJQdIHJ"
      },
      "source": [
        "**1. Complete the Python functions below to compute the $2$, $4$, and $8$-point FFT’s.**\n",
        "\n",
        "**Note:** The function ```FFT2``` should directly compute the $2$-point DFT using (13), but the functions ```FFT4``` and ```FFT8``` should compute their respective FFT’s using the divide and conquer strategy. This means that ```FFT8``` should call ```FFT4```, and ```FFT4``` should call ```FFT2```."
      ]
    },
    {
      "cell_type": "code",
      "execution_count": 98,
      "metadata": {
        "id": "n0egwm45dIHJ"
      },
      "outputs": [],
      "source": [
        "def FFT2(x):\n",
        "    \"\"\"\n",
        "    Parameters:\n",
        "    ---\n",
        "    x: the input signal\n",
        "    \n",
        "    Returns:\n",
        "    ---\n",
        "    X: the 2-point DFT of x\n",
        "    \"\"\"\n",
        "    x = x.astype(complex)\n",
        "    X = np.zeros(2)\n",
        "    X = X.astype(complex)\n",
        "    X[0] = x[0] + x[1]\n",
        "    X[1] = x[0] - x[1]\n",
        "    \n",
        "    return X"
      ]
    },
    {
      "cell_type": "code",
      "execution_count": 99,
      "metadata": {
        "id": "12w9hoqBdIHK"
      },
      "outputs": [],
      "source": [
        "def FFT4(x):\n",
        "    \"\"\"\n",
        "    Parameters:\n",
        "    ---\n",
        "    x: the input signal\n",
        "    \n",
        "    Returns:\n",
        "    ---\n",
        "    X: the 4-point DFT of x\n",
        "    \"\"\"\n",
        "    x = x.astype(complex)\n",
        "    x0 = np.array([x[0], x[2]])\n",
        "    x0 = x0.astype(complex)\n",
        "    x1 = np.array([x[1], x[3]])\n",
        "    x1 = x1.astype(complex)\n",
        "\n",
        "    X0 = FFT2(x0)\n",
        "    X1 = FFT2(x1)\n",
        "\n",
        "    k = np.arange(0, 2, 1)\n",
        "    W = np.exp(-2j * np.pi * k / 4)\n",
        "\n",
        "    X = np.zeros(4)\n",
        "    X = X.astype(complex)\n",
        "    X[0:2] = X0 + W * X1\n",
        "    X[2:4] = X0 - W * X1\n",
        "    \n",
        "    return X"
      ]
    },
    {
      "cell_type": "code",
      "execution_count": 100,
      "metadata": {
        "id": "2TuqF8pAdIHK"
      },
      "outputs": [],
      "source": [
        "def FFT8(x):\n",
        "    \"\"\"\n",
        "    Parameters:\n",
        "    ---\n",
        "    x: the input signal\n",
        "    \n",
        "    Returns:\n",
        "    ---\n",
        "    X: the 8-point DFT of x\n",
        "    \"\"\"\n",
        "    x = x.astype(complex)\n",
        "    x0 = np.array([x[0], x[2], x[4], x[6]])\n",
        "    x0 = x0.astype(complex)\n",
        "    x1 = np.array([x[1], x[3], x[5], x[7]])\n",
        "    x1 = x1.astype(complex)\n",
        "\n",
        "    X0 = FFT4(x0)\n",
        "    X1 = FFT4(x1)\n",
        "\n",
        "    k = np.arange(0, 4, 1)\n",
        "    W = np.exp(-2j * np.pi * k / 8)\n",
        "\n",
        "    X = np.zeros(8)\n",
        "    X = X.astype(complex)\n",
        "    X[0:4] = X0 + W * X1\n",
        "    X[4:8] = X0 - W * X1\n",
        "    \n",
        "    return X"
      ]
    },
    {
      "cell_type": "markdown",
      "metadata": {
        "id": "ohp5io5_dIHL"
      },
      "source": [
        "**2. Test your function ```FFT8``` by using it to compute the DFT’s of the following signals. Compare these results to the previous ones.**\n",
        "\n",
        "* $x[n]=\\delta[n]$ for $N=8$\n",
        "* $x[n]=1$ for $N=8$\n",
        "* $x[n]=e^{j2\\pi n/8}$ for $N=8$\n",
        "\n",
        "**Make sure you plot the results in separate cells.**"
      ]
    },
    {
      "cell_type": "code",
      "execution_count": 101,
      "metadata": {
        "colab": {
          "base_uri": "https://localhost:8080/",
          "height": 364
        },
        "id": "wtk5GgumdIHL",
        "outputId": "80d5fb81-ba25-4c02-a8a4-9550f5dad156"
      },
      "outputs": [
        {
          "output_type": "stream",
          "name": "stderr",
          "text": [
            "/usr/local/lib/python3.7/dist-packages/ipykernel_launcher.py:7: UserWarning: In Matplotlib 3.3 individual lines on a stem plot will be added as a LineCollection instead of individual lines. This significantly improves the performance of a stem plot. To remove this warning and switch to the new behaviour, set the \"use_line_collection\" keyword argument to True.\n",
            "  import sys\n"
          ]
        },
        {
          "output_type": "execute_result",
          "data": {
            "text/plain": [
              "<StemContainer object of 3 artists>"
            ]
          },
          "metadata": {},
          "execution_count": 101
        },
        {
          "output_type": "display_data",
          "data": {
            "text/plain": [
              "<Figure size 1152x432 with 1 Axes>"
            ],
            "image/png": "[encoded data removed]"
          },
          "metadata": {
            "needs_background": "light"
          }
        }
      ],
      "source": [
        "# first signal\n",
        "N = 8\n",
        "n = np.arange(0, N, 1)\n",
        "\n",
        "x1 = (n == 0).astype(float)\n",
        "X1 = FFT8(x1)\n",
        "plt.stem(n, np.abs(X1))\n"
      ]
    },
    {
      "cell_type": "code",
      "execution_count": 102,
      "metadata": {
        "colab": {
          "base_uri": "https://localhost:8080/",
          "height": 367
        },
        "id": "GXU9P90VdIHL",
        "outputId": "d4dea71e-4c44-45d8-aab5-8b469bcfe342"
      },
      "outputs": [
        {
          "output_type": "stream",
          "name": "stderr",
          "text": [
            "/usr/local/lib/python3.7/dist-packages/ipykernel_launcher.py:4: UserWarning: In Matplotlib 3.3 individual lines on a stem plot will be added as a LineCollection instead of individual lines. This significantly improves the performance of a stem plot. To remove this warning and switch to the new behaviour, set the \"use_line_collection\" keyword argument to True.\n",
            "  after removing the cwd from sys.path.\n"
          ]
        },
        {
          "output_type": "execute_result",
          "data": {
            "text/plain": [
              "<StemContainer object of 3 artists>"
            ]
          },
          "metadata": {},
          "execution_count": 102
        },
        {
          "output_type": "display_data",
          "data": {
            "text/plain": [
              "<Figure size 1152x432 with 1 Axes>"
            ],
            "image/png": "[encoded data removed]"
          },
          "metadata": {
            "needs_background": "light"
          }
        }
      ],
      "source": [
        "# second signal\n",
        "x2 = np.ones(N)\n",
        "X2 = FFT8(x2)\n",
        "plt.stem(n, np.abs(X2))\n"
      ]
    },
    {
      "cell_type": "code",
      "execution_count": 103,
      "metadata": {
        "colab": {
          "base_uri": "https://localhost:8080/",
          "height": 367
        },
        "id": "2EpmG-C8dIHL",
        "outputId": "f2666581-a1ae-4755-b630-d8dcccb9fe5f"
      },
      "outputs": [
        {
          "output_type": "stream",
          "name": "stderr",
          "text": [
            "/usr/local/lib/python3.7/dist-packages/ipykernel_launcher.py:4: UserWarning: In Matplotlib 3.3 individual lines on a stem plot will be added as a LineCollection instead of individual lines. This significantly improves the performance of a stem plot. To remove this warning and switch to the new behaviour, set the \"use_line_collection\" keyword argument to True.\n",
            "  after removing the cwd from sys.path.\n"
          ]
        },
        {
          "output_type": "execute_result",
          "data": {
            "text/plain": [
              "<StemContainer object of 3 artists>"
            ]
          },
          "metadata": {},
          "execution_count": 103
        },
        {
          "output_type": "display_data",
          "data": {
            "text/plain": [
              "<Figure size 1152x432 with 1 Axes>"
            ],
            "image/png": "[encoded data removed]"
          },
          "metadata": {
            "needs_background": "light"
          }
        }
      ],
      "source": [
        "# third signal\n",
        "x3 = np.exp(2j * np.pi * n / N)\n",
        "X3 = FFT8(x3)\n",
        "plt.stem(n, np.abs(X3))\n"
      ]
    },
    {
      "cell_type": "markdown",
      "metadata": {
        "id": "j1ks5bsZdIHL"
      },
      "source": [
        "**3. List the output (not plot) of ```FFT8``` for the case $x[n] = 1$ for $N = 8$.**"
      ]
    },
    {
      "cell_type": "code",
      "execution_count": 111,
      "metadata": {
        "colab": {
          "base_uri": "https://localhost:8080/"
        },
        "id": "yWVLaN1jdIHM",
        "outputId": "afa13f3a-b6d9-4f0c-870b-7ddb699045b9"
      },
      "outputs": [
        {
          "output_type": "stream",
          "name": "stdout",
          "text": [
            "[8 0 0 0 0 0 0 0]\n"
          ]
        },
        {
          "output_type": "stream",
          "name": "stderr",
          "text": [
            "/usr/local/lib/python3.7/dist-packages/ipykernel_launcher.py:2: ComplexWarning: Casting complex values to real discards the imaginary part\n",
            "  \n"
          ]
        }
      ],
      "source": [
        "# insert your code here\n",
        "X2 = X2.astype(int)\n",
        "print(X2)\n"
      ]
    },
    {
      "cell_type": "markdown",
      "metadata": {
        "id": "Nxe8xwmTdIHM"
      },
      "source": [
        "**4. Calculate the total number of multiplies by twiddle factors required for your 8-point FFT. (A multiply is a multiplication by a real or complex number.)**"
      ]
    },
    {
      "cell_type": "markdown",
      "metadata": {
        "id": "k6lJee0gdIHM"
      },
      "source": [
        "There are 8 multiplies by twiddle factors"
      ]
    },
    {
      "cell_type": "markdown",
      "metadata": {
        "id": "FbRL4P2wdIHN"
      },
      "source": [
        "**5. Determine a formula for the number of multiplies required for an $N = 2^p$ point FFT. Leave the expression in terms of $N$ and $p$. How does this compare to the number of multiplies required for direct implementation when $p = 10$?**"
      ]
    },
    {
      "cell_type": "markdown",
      "metadata": {
        "id": "u_-0umIldIHO"
      },
      "source": [
        "There would be N multiplies for an N point FFT whereas direct implementation requires N^2 multiplies. If p = 10, that means N multiplies is 2^10 = 1,024 and N^2 multiplies is (1024)^2 = 1,048,576. Way bigger!"
      ]
    },
    {
      "cell_type": "markdown",
      "metadata": {
        "id": "SU8hJ1l8dIHO"
      },
      "source": [
        "<h3 style=\"color:red;\"><left>Exercise 3.3: Recursive Divide and Conquer (Part 2)</left></h3>"
      ]
    },
    {
      "cell_type": "markdown",
      "metadata": {
        "id": "FGsyGzKWdIHO"
      },
      "source": [
        "**1. Complete the recursive function `fft_stage` below to perform one stage of the FFT algorithm for a power-of-2 length signal.**\n",
        "\n",
        "**Note:** the body of this function should look very similar to previous functions written in this lab."
      ]
    },
    {
      "cell_type": "code",
      "execution_count": 112,
      "metadata": {
        "id": "bcBeEBANdIHP"
      },
      "outputs": [],
      "source": [
        "def fft_stage(x):\n",
        "    \"\"\"\n",
        "    Performs one stage of the FFT algorithm for a power-of-2 length signal\n",
        "    \n",
        "    Parameters:\n",
        "    ---\n",
        "    x: a power-of-2 length signal\n",
        "    \n",
        "    Returns:\n",
        "    ---\n",
        "    X: the DFT of the input signal\n",
        "    \"\"\"\n",
        "    \n",
        "    # Step 1\n",
        "    # Determine the length of the input signal.\n",
        "\n",
        "    N = len(x)\n",
        "    x = x.astype(complex)\n",
        "    # Step 2\n",
        "    # If N == 2, then the function should just compute the 2-pt DFT as in equation (13), and then return.\n",
        "    \n",
        "    if (N == 2):\n",
        "      \n",
        "      X = np.zeros(2)\n",
        "      X = X.astype(complex)\n",
        "      X[0] = x[0] + x[1]\n",
        "      X[1] = x[0] - x[1]\n",
        "      return (X)\n",
        "\n",
        "    # Step 3\n",
        "    # If N > 2, then the function should perform the FFT steps described previously \n",
        "    # (i.e. decimate, compute (N/2)-pt DFTs, re-combine), \n",
        "    # calling fft_stage(x) to compute the (N/2)-pt DFTs.\n",
        "    else:\n",
        "\n",
        "      x0 = x[0:N:2]\n",
        "      x0 = x0.astype(complex)\n",
        "      x1 = x[1:N:2]\n",
        "      x1 = x1.astype(complex)\n",
        "\n",
        "      X0 = fft_stage(x0)\n",
        "      X1 = fft_stage(x1)\n",
        "\n",
        "      k = np.arange(0, int(N / 2), 1)\n",
        "      W = np.exp(-2j * np.pi * k / N)\n",
        "\n",
        "      X = np.zeros(N)\n",
        "      X = X.astype(complex)\n",
        "      X[0 : int(N/2)] = X0 + W * X1\n",
        "      X[int(N/2) : N] = X0 - W * X1\n",
        "    \n",
        "      return X"
      ]
    },
    {
      "cell_type": "markdown",
      "metadata": {
        "id": "Np_sKUkSdIHP"
      },
      "source": [
        "**2. Test ```fft_stage(x)``` on the three 8-point signals given above, and verify that it returns the same results as ```FFT8(x)```.**\n",
        "\n",
        "**Make sure you plot the results in separate cells.**"
      ]
    },
    {
      "cell_type": "code",
      "execution_count": 113,
      "metadata": {
        "id": "P7ZKDuubdIHQ",
        "colab": {
          "base_uri": "https://localhost:8080/",
          "height": 364
        },
        "outputId": "68199f17-d2e7-45f5-84f7-d617457721e1"
      },
      "outputs": [
        {
          "output_type": "stream",
          "name": "stderr",
          "text": [
            "/usr/local/lib/python3.7/dist-packages/ipykernel_launcher.py:7: UserWarning: In Matplotlib 3.3 individual lines on a stem plot will be added as a LineCollection instead of individual lines. This significantly improves the performance of a stem plot. To remove this warning and switch to the new behaviour, set the \"use_line_collection\" keyword argument to True.\n",
            "  import sys\n"
          ]
        },
        {
          "output_type": "execute_result",
          "data": {
            "text/plain": [
              "<StemContainer object of 3 artists>"
            ]
          },
          "metadata": {},
          "execution_count": 113
        },
        {
          "output_type": "display_data",
          "data": {
            "text/plain": [
              "<Figure size 1152x432 with 1 Axes>"
            ],
            "image/png": "[encoded data removed]"
          },
          "metadata": {
            "needs_background": "light"
          }
        }
      ],
      "source": [
        "# first signal\n",
        "N = 8\n",
        "n = np.arange(0, N, 1)\n",
        "\n",
        "x1 = (n == 0).astype(float)\n",
        "X1 = fft_stage(x1)\n",
        "plt.stem(n, np.abs(X1))"
      ]
    },
    {
      "cell_type": "code",
      "execution_count": 114,
      "metadata": {
        "id": "6Hwn8dyIdIHR",
        "colab": {
          "base_uri": "https://localhost:8080/",
          "height": 367
        },
        "outputId": "2ff335c5-3312-400a-d076-c7fb66b221ba"
      },
      "outputs": [
        {
          "output_type": "stream",
          "name": "stderr",
          "text": [
            "/usr/local/lib/python3.7/dist-packages/ipykernel_launcher.py:4: UserWarning: In Matplotlib 3.3 individual lines on a stem plot will be added as a LineCollection instead of individual lines. This significantly improves the performance of a stem plot. To remove this warning and switch to the new behaviour, set the \"use_line_collection\" keyword argument to True.\n",
            "  after removing the cwd from sys.path.\n"
          ]
        },
        {
          "output_type": "execute_result",
          "data": {
            "text/plain": [
              "<StemContainer object of 3 artists>"
            ]
          },
          "metadata": {},
          "execution_count": 114
        },
        {
          "output_type": "display_data",
          "data": {
            "text/plain": [
              "<Figure size 1152x432 with 1 Axes>"
            ],
            "image/png": "[encoded data removed]"
          },
          "metadata": {
            "needs_background": "light"
          }
        }
      ],
      "source": [
        "# second signal\n",
        "x2 = np.ones(N)\n",
        "X2 = fft_stage(x2)\n",
        "plt.stem(n, np.abs(X2))\n"
      ]
    },
    {
      "cell_type": "code",
      "execution_count": 115,
      "metadata": {
        "id": "ao-b5N7ldIHR",
        "colab": {
          "base_uri": "https://localhost:8080/",
          "height": 367
        },
        "outputId": "7f2fe2e7-8337-4a72-d519-2ac26fd16299"
      },
      "outputs": [
        {
          "output_type": "stream",
          "name": "stderr",
          "text": [
            "/usr/local/lib/python3.7/dist-packages/ipykernel_launcher.py:4: UserWarning: In Matplotlib 3.3 individual lines on a stem plot will be added as a LineCollection instead of individual lines. This significantly improves the performance of a stem plot. To remove this warning and switch to the new behaviour, set the \"use_line_collection\" keyword argument to True.\n",
            "  after removing the cwd from sys.path.\n"
          ]
        },
        {
          "output_type": "execute_result",
          "data": {
            "text/plain": [
              "<StemContainer object of 3 artists>"
            ]
          },
          "metadata": {},
          "execution_count": 115
        },
        {
          "output_type": "display_data",
          "data": {
            "text/plain": [
              "<Figure size 1152x432 with 1 Axes>"
            ],
            "image/png": "[encoded data removed]"
          },
          "metadata": {
            "needs_background": "light"
          }
        }
      ],
      "source": [
        "# third signal\n",
        "x3 = np.exp(2j * np.pi * n / N)\n",
        "X3 = FFT8(x3)\n",
        "plt.stem(n, np.abs(X3))"
      ]
    },
    {
      "cell_type": "markdown",
      "metadata": {
        "id": "5XMTttFzdIHR"
      },
      "source": [
        "<h2 style=\"color:salmon;\"><left>4. References</left></h2>"
      ]
    },
    {
      "cell_type": "markdown",
      "metadata": {
        "id": "Mthg2G7rdIHS"
      },
      "source": [
        "[1] J. W. Cooley and J. W. Tukey, “An algorithm for the machine calculation of complex\n",
        "Fourier series,” Mathematics of Computation, vol. 19, no. 90, p. 297-301, April 1965."
      ]
    }
  ],
  "metadata": {
    "kernelspec": {
      "display_name": "Python 3 (ipykernel)",
      "language": "python",
      "name": "python3"
    },
    "language_info": {
      "codemirror_mode": {
        "name": "ipython",
        "version": 3
      },
      "file_extension": ".py",
      "mimetype": "text/x-python",
      "name": "python",
      "nbconvert_exporter": "python",
      "pygments_lexer": "ipython3",
      "version": "3.8.1"
    },
    "colab": {
      "provenance": [],
      "collapsed_sections": []
    }
  },
  "nbformat": 4,
  "nbformat_minor": 0
}